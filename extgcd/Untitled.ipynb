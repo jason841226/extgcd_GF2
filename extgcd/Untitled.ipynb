{
 "cells": [
  {
   "cell_type": "code",
   "execution_count": 2,
   "metadata": {
    "collapsed": true
   },
   "outputs": [],
   "source": [
    "p = 761; q61 = 765; q = 6*q61+1; w = 250\n",
    "Zx.<x> = ZZ[]; R.<xp> = Zx.quotient(x^p-x-1)\n",
    "Fq = GF(q); Fqx.<xq> = Fq[]; Rq.<xqp> = Fqx.quotient(x^p-x-1)\n",
    "F3 = GF(3); F3x.<x3> = F3[]; R3.<x3p> = F3x.quotient(x^p-x-1)"
   ]
  },
  {
   "cell_type": "code",
   "execution_count": 84,
   "metadata": {
    "collapsed": true
   },
   "outputs": [],
   "source": [
    "def ext_gcd( a , b ) :\n",
    "  if a.degree() < b.degree() :  a,b = b,a  #swap\n",
    "  Ta = a.parent()\n",
    "  lr = [ a , b ]\n",
    "  ls = [ Ta(1) , Ta(0) ]\n",
    "  lt = [ Ta(0) , Ta(1) ]\n",
    "  while lr[-1] != 0 :\n",
    "    qq = lr[-2] // lr[-1]\n",
    "    rr = lr[-2] % lr[-1]\n",
    "    lr.append( rr )\n",
    "    ls.append( ls[-2] - qq*ls[-1] )\n",
    "    lt.append( lt[-2] - qq*lt[-1] )\n",
    "  #normalize\n",
    "  inv_n = (lr[-2].coefficients()[0])^-1\n",
    "  return lr[-2]*inv_n,ls[-2]*inv_n,lt[-2]*inv_n\n",
    "\n",
    "\n",
    "def list_pad_zero( al , len ):\n",
    "  al_ref = [ al[0].parent(0) ]*(len)\n",
    "  al = map( lambda x,y: y if x is None else x, al , al_ref )\n",
    "  return al\n",
    "\n",
    "def poly_in_deg( a , deg ):\n",
    "  return list_pad_zero( a.list() , deg+1 )\n",
    "\n",
    "\n",
    "def poly_rev( a , deg ):\n",
    "  r = poly_in_deg(a,deg)\n",
    "  rev_r = r[::-1]\n",
    "  return rev_r\n",
    "\n",
    "\n",
    "def conditional_swap( condition , a , b ) :\n",
    "  if 0 == condition:\n",
    "    return a , b\n",
    "  else :\n",
    "    return b , a\n"
   ]
  },
  {
   "cell_type": "code",
   "execution_count": 183,
   "metadata": {
    "collapsed": false
   },
   "outputs": [],
   "source": [
    "\n",
    "def divstep( delta , f , g , T_ ):\n",
    "  coef_k = f[0].parent()\n",
    "  kx.<x> = coef_k[] #kx = T_[0][0].parent()\n",
    "  #x = kx.gen()\n",
    "  M2kx = T_.parent() #MatrixSpace(kx.fraction_field(),2)   \n",
    "   #MatrixSpace( kx , 2 )\n",
    "  f = list_pad_zero( f , max(len(f),len(g)))\n",
    "  g = list_pad_zero( g , max(len(f),len(g)))\n",
    "  T0 = M2kx( (1,0,-g[0]/x,f[0]/x) )\n",
    "  T1 = M2kx( (0,1,g[0]/x,-f[0]/x) )\n",
    "  #conditional move\n",
    "  c = 1 if delta > 0 and g[0] != 0 else 0\n",
    "  rc , r1 = conditional_swap( c , [delta,f,g] , [-delta,g,f] )\n",
    "  T0 , T1 = conditional_swap( c , T0 , T1 )\n",
    "  # elimination\n",
    "  rc[0] = 1 + rc[0]\n",
    "  f = rc[1]\n",
    "  g = rc[2]\n",
    "  rg = [ f[0] * gi - g[0] * fi for fi,gi in zip(f,g) ]\n",
    "  rg.pop(0)\n",
    "  return rc[0] , rc[1] , rg , T0 , T0*T_\n",
    "  \n",
    "\n",
    "def ext_gcd0( a , b ) :\n",
    "  if a.degree() < b.degree() :  a,b = b,a  #swap\n",
    "  Ta = a.parent()\n",
    "  x = Ta.gen()\n",
    "  lr = [ a , b ]\n",
    "  lf = [Ta(1),Ta(0)]\n",
    "  lg = [Ta(0),Ta(1)]\n",
    "  print lr,\"\\n\",lf,\"\\n\",lg\n",
    "  while lr[-1] != 0 :\n",
    "    if lr[0].degree() > lr[1].degree() : \n",
    "       lr = lr[::-1]\n",
    "       lf , lg = lg , lf\n",
    "       print \"op0: [0,1]\"\n",
    "    else:\n",
    "       print \"op0: [1,0]\"\n",
    "    delta = lr[1].degree() - lr[0].degree()\n",
    "    lc_f = lr[0].leading_coefficient()\n",
    "    lc_g = lr[1].leading_coefficient()\n",
    "    lr[1] = lr[1]*lc_f - lr[0]*lc_g*(x^delta)\n",
    "    lg[0] = lg[0]*lc_f-lf[0]*lc_g*(x^delta)\n",
    "    lg[1] = lg[1]*lc_f-lf[1]*lc_g*(x^delta)\n",
    "    print \"op1: [\" , lc_f , \",\" , lc_g , \"x^\" , delta , \"]\"\n",
    "    print lr,\"\\n\",lf,\"\\n\",lg , \"\\n\"\n",
    "  #normalize\n",
    "  inv_n = (lr[-2].leading_coefficient())^-1\n",
    "  return lr[-2]*inv_n,map(lambda x:x*inv_n, lf )\n",
    "\n"
   ]
  },
  {
   "cell_type": "code",
   "execution_count": 137,
   "metadata": {
    "collapsed": false
   },
   "outputs": [
    {
     "data": {
      "text/plain": [
       "(1559*xq + 3949, 3290*xq^2 + 3040*xq + 4187)"
      ]
     },
     "execution_count": 137,
     "metadata": {},
     "output_type": "execute_result"
    }
   ],
   "source": [
    "a2 = Fqx.random_element()\n",
    "a1 = Fq.random_element() * xq + Fq.random_element()\n",
    "a1,a2"
   ]
  },
  {
   "cell_type": "code",
   "execution_count": 136,
   "metadata": {
    "collapsed": false
   },
   "outputs": [
    {
     "data": {
      "text/plain": [
       "(2898*xq^2 + 4092*xq + 1754, 2118*xq + 396)"
      ]
     },
     "execution_count": 136,
     "metadata": {},
     "output_type": "execute_result"
    }
   ],
   "source": [
    "b2 = Fqx.random_element()\n",
    "b1 = Fq.random_element() * xq + Fq.random_element()\n",
    "b2 , b1"
   ]
  },
  {
   "cell_type": "code",
   "execution_count": 152,
   "metadata": {
    "collapsed": false
   },
   "outputs": [
    {
     "data": {
      "text/plain": [
       "(1332*xq + 735, 2741*xq + 3518, 1332)"
      ]
     },
     "execution_count": 152,
     "metadata": {},
     "output_type": "execute_result"
    }
   ],
   "source": [
    "c1 = Fq.random_element() * xq + Fq.random_element()\n",
    "d1 = Fq.random_element() * xq + Fq.random_element()\n",
    "c1,d1, c1.leading_coefficient()"
   ]
  },
  {
   "cell_type": "code",
   "execution_count": 190,
   "metadata": {
    "collapsed": false
   },
   "outputs": [
    {
     "name": "stdout",
     "output_type": "stream",
     "text": [
      "1 [3504, 1659, 2347, 1601, 2989] [3696, 833, 24, 3710] \n",
      "[1 0]\n",
      "[0 1]\n",
      "0 [3696, 833, 24, 3710, 0] [3723, 655, 1369, 1398] \n",
      "[      0       1]\n",
      "[3696/xq 1087/xq] \n",
      "[      0       1]\n",
      "[3696/xq 1087/xq] \n",
      "\n",
      "1 [3696, 833, 24, 3710, 0] [3680, 3010, 4122, 0] \n",
      "[      1       0]\n",
      "[ 868/xq 3696/xq] \n",
      "[                  0                   1]\n",
      "[          2191/xq^2 (868*xq + 427)/xq^2] \n",
      "\n",
      "1 [3680, 3010, 4122, 0, 0] [2276, 3708, 3757, 0] \n",
      "[      0       1]\n",
      "[3680/xq  895/xq] \n",
      "[                       2191/xq^2              (868*xq + 427)/xq^2]\n",
      "[                        588/xq^3 (3680*xq^2 + 981*xq + 1112)/xq^3] \n",
      "\n",
      "1 [3680, 3010, 4122, 0, 0] [0, 0, 0, 0] \n",
      "[      1       0]\n",
      "[2315/xq 3680/xq] \n",
      "[                        2191/xq^2               (868*xq + 427)/xq^2]\n",
      "[            (3701*xq + 1479)/xq^4 (2103*xq^2 + 2994*xq + 1579)/xq^4] \n",
      "\n",
      "1 [3680, 3010, 4122, 0, 0] [0, 0, 0, 0] \n",
      "[      1       0]\n",
      "[      0 3680/xq] \n",
      "[                        2191/xq^2               (868*xq + 427)/xq^2]\n",
      "[            (2774*xq + 2385)/xq^5 (3205*xq^2 + 4111*xq + 3105)/xq^5] \n",
      "\n",
      "1 [3680, 3010, 4122, 0, 0] [0, 0, 0, 0] \n",
      "[      1       0]\n",
      "[      0 3680/xq] \n",
      "[                       2191/xq^2              (868*xq + 427)/xq^2]\n",
      "[           (2527*xq + 3399)/xq^6 (121*xq^2 + 1135*xq + 3992)/xq^6] \n",
      "\n",
      "1 [3680, 3010, 4122, 0, 0] [0, 0, 0, 0] \n",
      "[      1       0]\n",
      "[      0 3680/xq] \n",
      "[                        2191/xq^2               (868*xq + 427)/xq^2]\n",
      "[            (2585*xq + 2436)/xq^7 (4544*xq^2 + 3581*xq + 3951)/xq^7] \n",
      "\n",
      "output:\n",
      "4 [1, 163, 2868, 0, 0] [0, 0, 0, 0] \n",
      "[                        1197/xq^2              (2161*xq + 952)/xq^2]\n",
      "[            (2585*xq + 2436)/xq^7 (4544*xq^2 + 3581*xq + 3951)/xq^7] \n",
      "\n"
     ]
    }
   ],
   "source": [
    "r1 , T0 = ext_gcd2( a2*b2 , b2*c1 )\n"
   ]
  },
  {
   "cell_type": "code",
   "execution_count": 189,
   "metadata": {
    "collapsed": false,
    "scrolled": true
   },
   "outputs": [
    {
     "ename": "TypeError",
     "evalue": "divstep() takes exactly 4 arguments (3 given)",
     "output_type": "error",
     "traceback": [
      "\u001b[0;31m---------------------------------------------------------------------------\u001b[0m",
      "\u001b[0;31mTypeError\u001b[0m                                 Traceback (most recent call last)",
      "\u001b[0;32m<ipython-input-189-022bac3c9918>\u001b[0m in \u001b[0;36m<module>\u001b[0;34m()\u001b[0m\n\u001b[0;32m----> 1\u001b[0;31m \u001b[0mr0\u001b[0m\u001b[0;34m,\u001b[0m\u001b[0mr1\u001b[0m\u001b[0;34m,\u001b[0m\u001b[0mr2\u001b[0m\u001b[0;34m,\u001b[0m \u001b[0mT0\u001b[0m \u001b[0;34m=\u001b[0m \u001b[0mdivstep\u001b[0m\u001b[0;34m(\u001b[0m \u001b[0mInteger\u001b[0m\u001b[0;34m(\u001b[0m\u001b[0;36m0\u001b[0m\u001b[0;34m)\u001b[0m \u001b[0;34m,\u001b[0m \u001b[0mpoly_rev\u001b[0m\u001b[0;34m(\u001b[0m\u001b[0ma\u001b[0m\u001b[0;34m,\u001b[0m\u001b[0mInteger\u001b[0m\u001b[0;34m(\u001b[0m\u001b[0;36m2\u001b[0m\u001b[0;34m)\u001b[0m\u001b[0;34m)\u001b[0m \u001b[0;34m,\u001b[0m \u001b[0mpoly_rev\u001b[0m\u001b[0;34m(\u001b[0m\u001b[0mb\u001b[0m\u001b[0;34m,\u001b[0m\u001b[0mInteger\u001b[0m\u001b[0;34m(\u001b[0m\u001b[0;36m2\u001b[0m\u001b[0;34m)\u001b[0m\u001b[0;34m)\u001b[0m \u001b[0;34m)\u001b[0m\u001b[0;34m\u001b[0m\u001b[0m\n\u001b[0m\u001b[1;32m      2\u001b[0m \u001b[0mT0\u001b[0m\u001b[0;34m\u001b[0m\u001b[0m\n",
      "\u001b[0;31mTypeError\u001b[0m: divstep() takes exactly 4 arguments (3 given)"
     ]
    }
   ],
   "source": [
    "r0,r1,r2, T0 = divstep( 0 , poly_rev(a,2) , poly_rev(b,2) )\n",
    "T0"
   ]
  },
  {
   "cell_type": "code",
   "execution_count": 188,
   "metadata": {
    "collapsed": false,
    "scrolled": true
   },
   "outputs": [
    {
     "name": "stdout",
     "output_type": "stream",
     "text": [
      "[3504*xq^4 + 1659*xq^3 + 2347*xq^2 + 1601*xq + 2989, 3696*xq^3 + 833*xq^2 + 24*xq + 3710] \n",
      "[1, 0] \n",
      "[0, 1]\n",
      "op0: [0,1]\n",
      "op1: [ 3696 , 3504 x^ 1 ]\n",
      "[3696*xq^3 + 833*xq^2 + 24*xq + 3710, 3723*xq^3 + 655*xq^2 + 1369*xq + 1398] \n",
      "[0, 1] \n",
      "[3696, 1087*xq] \n",
      "\n",
      "op0: [1,0]\n",
      "op1: [ 3696 , 3723 x^ 0 ]\n",
      "[3696*xq^3 + 833*xq^2 + 24*xq + 3710, 3680*xq^2 + 3010*xq + 4122] \n",
      "[0, 1] \n",
      "[2191, 427*xq + 868] \n",
      "\n",
      "op0: [0,1]\n",
      "op1: [ 3680 , 3696 x^ 1 ]\n",
      "[3680*xq^2 + 3010*xq + 4122, 2276*xq^2 + 3708*xq + 3757] \n",
      "[2191, 427*xq + 868] \n",
      "[588*xq, 1112*xq^2 + 981*xq + 3680] \n",
      "\n",
      "op0: [1,0]\n",
      "op1: [ 3680 , 2276 x^ 0 ]\n",
      "[3680*xq^2 + 3010*xq + 4122, 0] \n",
      "[2191, 427*xq + 868] \n",
      "[1479*xq + 3701, 1579*xq^2 + 2994*xq + 2103] \n",
      "\n"
     ]
    },
    {
     "data": {
      "text/plain": [
       "(xq^2 + 163*xq + 2868, [1197, 952*xq + 2161])"
      ]
     },
     "execution_count": 188,
     "metadata": {},
     "output_type": "execute_result"
    }
   ],
   "source": [
    "ext_gcd0( a2*b2 ,b2*c1 )"
   ]
  },
  {
   "cell_type": "code",
   "execution_count": 94,
   "metadata": {
    "collapsed": false
   },
   "outputs": [
    {
     "data": {
      "text/plain": [
       "2208*xq^2 + 2007*xq + 1458"
      ]
     },
     "execution_count": 94,
     "metadata": {},
     "output_type": "execute_result"
    }
   ],
   "source": [
    "a"
   ]
  },
  {
   "cell_type": "code",
   "execution_count": 95,
   "metadata": {
    "collapsed": false
   },
   "outputs": [
    {
     "data": {
      "text/plain": [
       "3345*xq^2 + 3134*xq + 4569"
      ]
     },
     "execution_count": 95,
     "metadata": {},
     "output_type": "execute_result"
    }
   ],
   "source": [
    "b"
   ]
  },
  {
   "cell_type": "code",
   "execution_count": 97,
   "metadata": {
    "collapsed": false
   },
   "outputs": [
    {
     "data": {
      "text/plain": [
       "xq^2"
      ]
     },
     "execution_count": 97,
     "metadata": {},
     "output_type": "execute_result"
    }
   ],
   "source": [
    "a*a.parent( T0[0][0] ) + b * b.parent( T0[0][1] )"
   ]
  },
  {
   "cell_type": "code",
   "execution_count": 123,
   "metadata": {
    "collapsed": false
   },
   "outputs": [],
   "source": [
    "def jumpdivsteps(n,t,delta,f,g):\n",
    "  print \"jumpdivsteps(\",n,t,delta,f,g,\")\"\n",
    "  assert t>= n and n>=0\n",
    "  f,g = f.truncate(t), g.truncate(t)\n",
    "  print \"truncated: f=\",f , \"  g=\", g\n",
    "  kx=f.parent()\n",
    "  x=kx.gen()\n",
    "  M2kx=MatrixSpace(kx.fraction_field(),2)\n",
    "  if n == 0: return delta,f,g,(),M2kx(1)\n",
    "  if n==1:\n",
    "    c = 1 if delta > 0 and g[0] != 0 else 0\n",
    "    Tc, Td = conditional_swap( c , M2kx((1,0,-g[0]/x,f[0]/x)), M2kx( (0,1,g[0]/x,-f[0]/x) ) )\n",
    "    delta , d2 = conditional_swap( c , delta , -delta )\n",
    "    fc , f2 = conditional_swap( c , f , g )\n",
    "    gc , g2 = conditional_swap( c , f[0]*g-g[0]*f , g[0]*f-f[0]*g )\n",
    "    return 1+delta,fc,kx(gc/x),(Tc,),Tc\n",
    "  # other cases of n\n",
    "  j = n//2\n",
    "  print \"j=\",j\n",
    "  delta,f1,g1,T1,P1 = jumpdivsteps(j,j,delta,f,g)\n",
    "  print \"P1:\\n\" , P1 \n",
    "  f,g = P1*vector( (f,g) )\n",
    "  print \"P1x(f,g): f=\" , f , \"  g=\", g\n",
    "  f,g = kx(f).truncate(t-j),kx(g).truncate(t-j)\n",
    "  print \"truncated: f=\",f , \"  g=\", g\n",
    "\n",
    "  delta,f2,g2,T2,P2 = jumpdivsteps(n-j,n-j,delta,f,g)\n",
    "  print \"P2:\\n\" , P2\n",
    "  f,g = P2*vector( (f,g) )\n",
    "  print \"P2x(f,g): f=\" , f , \"  g=\", g\n",
    "  f,g = kx(f).truncate(t-n+1),kx(g).truncate(t-n)\n",
    "  print \"truncated: f=\",f , \"  g=\", g\n",
    "  return delta,f,g,T2+T1,P2*P1\n",
    "\n",
    "def jumpgcd(R0,R1):\n",
    "  d = R0.degree()\n",
    "  assert d>0 and d>R1.degree()\n",
    "  f,g = R0.reverse(d), R1.reverse(d-1)\n",
    "  delta,f,g,T,P = jumpdivsteps(2*d-1,3*d-1,1,f,g)\n",
    "  return f.reverse(delta//2)/f[0]\n"
   ]
  },
  {
   "cell_type": "code",
   "execution_count": 191,
   "metadata": {
    "collapsed": false
   },
   "outputs": [
    {
     "name": "stdout",
     "output_type": "stream",
     "text": [
      "jumpdivsteps( 5 8 1 3152*xq^3 + 3251*xq^2 + 2890*xq + 4298 4569*xq^2 + 3134*xq + 3345 )\n",
      "truncated: f= 3152*xq^3 + 3251*xq^2 + 2890*xq + 4298   g= 4569*xq^2 + 3134*xq + 3345\n",
      "j= 2\n",
      "jumpdivsteps( 2 2 1 3152*xq^3 + 3251*xq^2 + 2890*xq + 4298 4569*xq^2 + 3134*xq + 3345 )\n",
      "truncated: f= 2890*xq + 4298   g= 3134*xq + 3345\n",
      "j= 1\n",
      "jumpdivsteps( 1 1 1 2890*xq + 4298 3134*xq + 3345 )\n",
      "truncated: f= 4298   g= 3345\n",
      "P1:\n",
      "[      0       1]\n",
      "[3345/xq  293/xq]\n",
      "P1x(f,g): f= 3134*xq + 3345   g= 3057\n",
      "truncated: f= 3345   g= 3057\n",
      "jumpdivsteps( 1 1 0 3345 3057 )\n",
      "truncated: f= 3345   g= 3057\n",
      "P2:\n",
      "[      1       0]\n",
      "[1534/xq 3345/xq]\n",
      "P2x(f,g): f= 3345   g= 0\n",
      "truncated: f= 3345   g= 0\n",
      "P1:\n",
      "[                    0                     1]\n",
      "[             758/xq^2 (1534*xq + 2202)/xq^2]\n",
      "P1x(f,g): f= 4569*xq^2 + 3134*xq + 3345   g= 285*xq + 1727\n",
      "truncated: f= 4569*xq^2 + 3134*xq + 3345   g= 285*xq + 1727\n",
      "jumpdivsteps( 3 3 1 4569*xq^2 + 3134*xq + 3345 285*xq + 1727 )\n",
      "truncated: f= 4569*xq^2 + 3134*xq + 3345   g= 285*xq + 1727\n",
      "j= 1\n",
      "jumpdivsteps( 1 1 1 4569*xq^2 + 3134*xq + 3345 285*xq + 1727 )\n",
      "truncated: f= 3345   g= 1727\n",
      "P1:\n",
      "[      0       1]\n",
      "[1727/xq 1246/xq]\n",
      "P1x(f,g): f= 285*xq + 1727   g= 3325*xq + 1232\n",
      "truncated: f= 285*xq + 1727   g= 3325*xq + 1232\n",
      "jumpdivsteps( 2 2 0 285*xq + 1727 3325*xq + 1232 )\n",
      "truncated: f= 285*xq + 1727   g= 3325*xq + 1232\n",
      "j= 1\n",
      "jumpdivsteps( 1 1 0 285*xq + 1727 3325*xq + 1232 )\n",
      "truncated: f= 1727   g= 1232\n",
      "P1:\n",
      "[      1       0]\n",
      "[3359/xq 1727/xq]\n",
      "P1x(f,g): f= 285*xq + 1727   g= 1321\n",
      "truncated: f= 1727   g= 1321\n",
      "jumpdivsteps( 1 1 1 1727 1321 )\n",
      "truncated: f= 1727   g= 1321\n",
      "P2:\n",
      "[      0       1]\n",
      "[1321/xq 2864/xq]\n",
      "P2x(f,g): f= 1321   g= 0\n",
      "truncated: f= 1321   g= 0\n",
      "P2:\n",
      "[              3359/xq               1727/xq]\n",
      "[(1321*xq + 2031)/xq^2             1621/xq^2]\n",
      "P2x(f,g): f= 1321   g= 23\n",
      "truncated: f= 1321   g= 0\n",
      "P2:\n",
      "[                        2970/xq^2             (3359*xq + 3254)/xq^2]\n",
      "[                        3548/xq^3 (1321*xq^2 + 2031*xq + 4317)/xq^3]\n",
      "P2x(f,g): f= 1321   g= 23\n",
      "truncated: f= 1321   g= 23\n"
     ]
    },
    {
     "data": {
      "text/plain": [
       "1"
      ]
     },
     "execution_count": 191,
     "metadata": {},
     "output_type": "execute_result"
    }
   ],
   "source": [
    "jumpgcd(a*c,b)"
   ]
  },
  {
   "cell_type": "code",
   "execution_count": 192,
   "metadata": {
    "collapsed": true
   },
   "outputs": [],
   "source": [
    "def list_mul( l , c ):\n",
    "  return [ x*c for x in l ]\n",
    "\n",
    "def list_add( l1 , l2 ):\n",
    "  return [ x+y for x,y in zip(l1,l2) ]\n",
    "\n",
    "def list_shift(l,shift) :\n",
    "  src_idx = max(-shift,0)\n",
    "  dst_idx = max(shift,0)\n",
    "  length = max(len(l)-abs(shift),0)\n",
    "  new_l = [ l[0].parent()(0) ]* len(l)\n",
    "  new_l[dst_idx:dst_idx+length] = l[src_idx:src_idx+length]\n",
    "  return new_l\n",
    "\n"
   ]
  },
  {
   "cell_type": "code",
   "execution_count": 206,
   "metadata": {
    "collapsed": true
   },
   "outputs": [],
   "source": [
    "def deg1mat_mul( deg1mat , mat2 ) :\n",
    "  r0 , r0_ = conditional_swap( deg1mat[0][0] , mat2[1] , mat2[0] )   # use AND\n",
    "  r10_u = list_mul(mat2[0][0],deg1mat[1][0])\n",
    "  r10_d = list_mul(mat2[1][0],deg1mat[1][1])\n",
    "  r11_u = list_mul(mat2[0][1],deg1mat[1][0])\n",
    "  r11_d = list_mul(mat2[1][1],deg1mat[1][1])\n",
    "  deno_u = mat2[0][2] + deg1mat[1][2]\n",
    "  deno_d = mat2[1][2] + deg1mat[1][2]\n",
    "  deno = max( deno_u , deno_d )\n",
    "  r10 = list_add( list_shift(r10_u,deno-deno_u) , list_shift(r10_d,deno-deno_d) )\n",
    "  r11 = list_add( list_shift(r11_u,deno-deno_u) , list_shift(r11_d,deno-deno_d) )\n",
    "  return [ r0 , [ r10 , r11 , deno ] ]\n"
   ]
  },
  {
   "cell_type": "code",
   "execution_count": 209,
   "metadata": {
    "collapsed": true
   },
   "outputs": [],
   "source": [
    "def divstep_list( delta , f , g ):\n",
    "  coef_k = f[0].parent()\n",
    "  T00 = [ coef_k(1) , coef_k(0) , 0 ]\n",
    "  T10 = [ -g[0] , f[0] , 1 ]\n",
    "  T01 = [ coef_k(0) , coef_k(1) , 0 ]\n",
    "  T11 = [ g[0]  , -f[0] , 1 ]\n",
    "  #conditional move\n",
    "  c = 1 if delta > 0 and g[0] != 0 else 0\n",
    "  rd , rd_ = conditional_swap( c , delta , -delta )\n",
    "  f  , g   = conditional_swap( c , f , g )\n",
    "  T0 , T0_ = conditional_swap( c , [ T00, T10 ] , [ T01 , T11 ] )\n",
    "  # elimination\n",
    "  rd = rd + 1\n",
    "  rg = [ f[0] * gi - g[0] * fi for fi,gi in zip(f,g) ]\n",
    "  rg = list_shift( rg , -1 )\n",
    "  return rd , f , rg , T0\n"
   ]
  },
  {
   "cell_type": "code",
   "execution_count": 197,
   "metadata": {
    "collapsed": true
   },
   "outputs": [],
   "source": [
    "def extgcd_list( a , b ):\n",
    "  deg_a = a.degree()\n",
    "  deg_b = b.degree()\n",
    "  if deg_a < deg_b :\n",
    "    a , b = b , a\n",
    "    deg_a , deg_b = deg_b , deg_a\n",
    "  if deg_a < 0 : return a\n",
    "  if deg_a == deg_b : \n",
    "    b = b*a.leading_coefficient() - a*b.leading_coefficient()\n",
    "  deg_b = deg_a - 1\n",
    "  delta = deg_a - deg_b\n",
    "  r1 = poly_rev( a , deg_a )\n",
    "  r2 = poly_rev( b , deg_b )\n",
    "  lenlist = deg_a + 1\n",
    "  r2 = list_pad_zero( r2 , lenlist )\n",
    "  coef_k = r1[0].parent()\n",
    "  T00 = [ [coef_k(0)]*lenlist , [coef_k(0)]*lenlist , 0 ]\n",
    "  T01 = [ [coef_k(0)]*lenlist , [coef_k(0)]*lenlist , 0 ]\n",
    "  T00[0][0] = coef_k(1)\n",
    "  T01[1][0] = coef_k(1)\n",
    "  T0 = [T00,T01]\n",
    "  print delta , r1 , r2 , \"\\n\", T0\n",
    "  delta , r1 , r2 , T1 = divstep_list( delta , r1 , r2 )\n",
    "  T0 = deg1mat_mul( T1 , T0 )\n",
    "  print delta , r1 , r2 , '\\n' , T1 , '\\n' , T0 , '\\n'\n",
    "  for i in range(deg_a+deg_b-1) :\n",
    "    delta , r1 , r2 , T1 = divstep_list( delta , r1 , r2 )\n",
    "    T0 = deg1mat_mul( T1 , T0 )\n",
    "    print r0 , r1 , r2 , '\\n' , T1 , '\\n' , T0 , '\\n'\n",
    "  #normalize\n",
    "  inv = r1[0]^-1\n",
    "  r1 = map( lambda x: x*inv , r1 )\n",
    "  T0[0][0] = [ x*inv for x in T0[0][0] ]\n",
    "  T0[0][1] = [ x*inv for x in T0[0][1] ]\n",
    "  print \"output:\"\n",
    "  print delta , r1 , r2 , '\\n' , T0 , '\\n'\n",
    "  return r1 , T0\n",
    "\n"
   ]
  },
  {
   "cell_type": "code",
   "execution_count": 211,
   "metadata": {
    "collapsed": false
   },
   "outputs": [
    {
     "name": "stdout",
     "output_type": "stream",
     "text": [
      "1 [3504, 1659, 2347, 1601, 2989] [3696, 833, 24, 3710, 0] \n",
      "[[[1, 0, 0, 0, 0], [0, 0, 0, 0, 0], 0], [[0, 0, 0, 0, 0], [1, 0, 0, 0, 0], 0]]\n",
      "0 [3696, 833, 24, 3710, 0] [3723, 655, 1369, 1398, 0] \n",
      "[[0, 1, 0], [3696, 1087, 1]] \n",
      "[[[0, 0, 0, 0, 0], [1, 0, 0, 0, 0], 0], [[3696, 0, 0, 0, 0], [1087, 0, 0, 0, 0], 1]] \n",
      "\n",
      "1 [3696, 833, 24, 3710, 0] [3680, 3010, 4122, 0, 0] \n",
      "[[1, 0, 0], [868, 3696, 1]] \n",
      "[[[0, 0, 0, 0, 0], [1, 0, 0, 0, 0], 0], [[2191, 0, 0, 0, 0], [427, 868, 0, 0, 0], 2]] \n",
      "\n",
      "1 [3680, 3010, 4122, 0, 0] [2276, 3708, 3757, 0, 0] \n",
      "[[0, 1, 0], [3680, 895, 1]] \n",
      "[[[2191, 0, 0, 0, 0], [427, 868, 0, 0, 0], 2], [[588, 0, 0, 0, 0], [1112, 981, 3680, 0, 0], 3]] \n",
      "\n",
      "1 [3680, 3010, 4122, 0, 0] [0, 0, 0, 0, 0] \n",
      "[[1, 0, 0], [2315, 3680, 1]] \n",
      "[[[2191, 0, 0, 0, 0], [427, 868, 0, 0, 0], 2], [[1479, 3701, 0, 0, 0], [1579, 2994, 2103, 0, 0], 4]] \n",
      "\n",
      "1 [3680, 3010, 4122, 0, 0] [0, 0, 0, 0, 0] \n",
      "[[1, 0, 0], [0, 3680, 1]] \n",
      "[[[2191, 0, 0, 0, 0], [427, 868, 0, 0, 0], 2], [[2385, 2774, 0, 0, 0], [3105, 4111, 3205, 0, 0], 5]] \n",
      "\n",
      "1 [3680, 3010, 4122, 0, 0] [0, 0, 0, 0, 0] \n",
      "[[1, 0, 0], [0, 3680, 1]] \n",
      "[[[2191, 0, 0, 0, 0], [427, 868, 0, 0, 0], 2], [[3399, 2527, 0, 0, 0], [3992, 1135, 121, 0, 0], 6]] \n",
      "\n",
      "1 [3680, 3010, 4122, 0, 0] [0, 0, 0, 0, 0] \n",
      "[[1, 0, 0], [0, 3680, 1]] \n",
      "[[[2191, 0, 0, 0, 0], [427, 868, 0, 0, 0], 2], [[2436, 2585, 0, 0, 0], [3951, 3581, 4544, 0, 0], 7]] \n",
      "\n",
      "output:\n",
      "4 [1, 163, 2868, 0, 0] [0, 0, 0, 0, 0] \n",
      "[[[1197, 0, 0, 0, 0], [952, 2161, 0, 0, 0], 2], [[2436, 2585, 0, 0, 0], [3951, 3581, 4544, 0, 0], 7]] \n",
      "\n"
     ]
    },
    {
     "data": {
      "text/plain": [
       "([1, 163, 2868, 0, 0],\n",
       " [[[1197, 0, 0, 0, 0], [952, 2161, 0, 0, 0], 2],\n",
       "  [[2436, 2585, 0, 0, 0], [3951, 3581, 4544, 0, 0], 7]])"
      ]
     },
     "execution_count": 211,
     "metadata": {},
     "output_type": "execute_result"
    }
   ],
   "source": [
    "extgcd_list( a2*b2 , b2*c1 )"
   ]
  },
  {
   "cell_type": "code",
   "execution_count": 225,
   "metadata": {
    "collapsed": false
   },
   "outputs": [],
   "source": [
    "\n",
    "def list_pad_zero( al , len ):\n",
    "  al_ref = [ al[0].parent(0) ]*(len)\n",
    "  al = map( lambda x,y: y if x is None else x, al , al_ref )\n",
    "  return al\n",
    "\n",
    "def list_pad_front(al,nlen):\n",
    "  assert nlen >= len(al)\n",
    "  ral = list(al)\n",
    "  ral[:0] = [al[0].parent(0)]*(nlen-len(al))\n",
    "  return ral\n",
    "\n",
    "\n",
    "def deg1mat_mul( deg1mat , mat2 ) :\n",
    "  inp_poly_len = len(mat2[0][0])\n",
    "  np_len = inp_poly_len+1\n",
    "  mat2_r0 = [list_pad_front(mat2[0][0],np_len),list_pad_front(mat2[0][1],np_len)]\n",
    "  mat2_r1 = [list_pad_zero(mat2[1][0],np_len),list_pad_zero(mat2[1][1],np_len)]\n",
    "  r0 , r0_ = conditional_swap( deg1mat[0][0][0] , mat2_r1 , mat2_r0 )   # use AND\n",
    "  m1_10 = deg1mat[1][0][0]\n",
    "  m1_11 = deg1mat[1][1][0]\n",
    "  r10_u = list_mul(mat2[0][0],m1_10)\n",
    "  r10_d = list_mul(mat2[1][0],m1_11)\n",
    "  r11_u = list_mul(mat2[0][1],m1_10)\n",
    "  r11_d = list_mul(mat2[1][1],m1_11)\n",
    "  r10 = list_add(list_pad_front(r10_u,np_len),list_pad_zero(r10_d,np_len))\n",
    "  r11 = list_add(list_pad_front(r11_u,np_len),list_pad_zero(r11_d,np_len))\n",
    "  return [ r0 , [ r10 , r11 ] ]\n",
    "\n",
    "def divstep_list( delta , f , g ):\n",
    "  coef_k = f[0].parent()\n",
    "  T00 = [ [coef_k(1)] , [coef_k(0)] ]\n",
    "  T10 = [ [-g[0]] , [f[0]]  ]\n",
    "  T01 = [ [coef_k(0)] , [coef_k(1)] ]\n",
    "  T11 = [ [g[0]]  , [-f[0]] ]\n",
    "  #conditional move\n",
    "  c = 1 if delta > 0 and g[0] != 0 else 0\n",
    "  rd , rd_ = conditional_swap( c , delta , -delta )\n",
    "  f  , g   = conditional_swap( c , f , g )\n",
    "  T0 , T0_ = conditional_swap( c , [ T00, T10 ] , [ T01 , T11 ] )\n",
    "  # elimination\n",
    "  rd = rd + 1\n",
    "  rg = [ f[0] * gi - g[0] * fi for fi,gi in zip(f,g) ]\n",
    "  rg = list_shift( rg , -1 )\n",
    "  return rd , f , rg , T0\n",
    "\n",
    "def extgcd_list( a , b ):\n",
    "  deg_a = a.degree()\n",
    "  deg_b = b.degree()\n",
    "  if deg_a < deg_b :\n",
    "    a , b = b , a\n",
    "    deg_a , deg_b = deg_b , deg_a\n",
    "  if deg_a < 0 : return a\n",
    "  if deg_a == deg_b : \n",
    "    b = b*a.leading_coefficient() - a*b.leading_coefficient()\n",
    "  deg_b = deg_a - 1\n",
    "  delta = deg_a - deg_b\n",
    "  r1 = poly_rev( a , deg_a )\n",
    "  r2 = poly_rev( b , deg_b )\n",
    "  lenlist = deg_a + 1\n",
    "  r2 = list_pad_zero( r2 , lenlist )\n",
    "  coef_k = r1[0].parent()\n",
    "  print delta , r1 , r2 , \"\\n\"\n",
    "  delta , r1 , r2 , T1 = divstep_list( delta , r1 , r2 )\n",
    "  T0 = T1    # T1*Identity = T1\n",
    "  print delta , r1 , r2 , '\\n' , T1 , '\\n'\n",
    "  for i in range(deg_a+deg_b-1) :\n",
    "    delta , r1 , r2 , T1 = divstep_list( delta , r1 , r2 )\n",
    "    T0 = deg1mat_mul( T1 , T0 )\n",
    "    print delta , r1 , r2 , '\\n' , T1 , '\\n' , T0 , '\\n'\n",
    "  #normalize\n",
    "  inv = r1[0]^-1\n",
    "  r1 = map( lambda x: x*inv , r1 )\n",
    "  T0[0][0] = list_mul( T0[0][0] , inv )\n",
    "  T0[0][1] = list_mul( T0[0][1] , inv )\n",
    "  print \"output:\"\n",
    "  print delta , r1 , r2 , '\\n' , T0 , '\\n'\n",
    "  return r1 , T0\n",
    "\n"
   ]
  },
  {
   "cell_type": "code",
   "execution_count": 227,
   "metadata": {
    "collapsed": false
   },
   "outputs": [
    {
     "name": "stdout",
     "output_type": "stream",
     "text": [
      "1 [3504, 1659, 2347, 1601, 2989] [3696, 833, 24, 3710, 0] \n",
      "\n",
      "0 [3696, 833, 24, 3710, 0] [3723, 655, 1369, 1398, 0] \n",
      "[[[0], [1]], [[3696], [1087]]] \n",
      "\n",
      "1 [3696, 833, 24, 3710, 0] [3680, 3010, 4122, 0, 0] \n",
      "[[[1], [0]], [[868], [3696]]] \n",
      "[[[0, 0], [0, 1]], [[2191, 0], [427, 868]]] \n",
      "\n",
      "0 [3680, 3010, 4122, 0, 0] [2276, 3708, 3757, 0, 0] \n",
      "[[[0], [1]], [[3680], [895]]] \n",
      "[[[2191, 0, 0], [427, 868, 0]], [[588, 0, 0], [1112, 981, 3680]]] \n",
      "\n",
      "1 [3680, 3010, 4122, 0, 0] [0, 0, 0, 0, 0] \n",
      "[[[1], [0]], [[2315], [3680]]] \n",
      "[[[0, 2191, 0, 0], [0, 427, 868, 0]], [[1479, 3701, 0, 0], [1579, 2994, 2103, 0]]] \n",
      "\n",
      "2 [3680, 3010, 4122, 0, 0] [0, 0, 0, 0, 0] \n",
      "[[[1], [0]], [[0], [3680]]] \n",
      "[[[0, 0, 2191, 0, 0], [0, 0, 427, 868, 0]], [[2385, 2774, 0, 0, 0], [3105, 4111, 3205, 0, 0]]] \n",
      "\n",
      "3 [3680, 3010, 4122, 0, 0] [0, 0, 0, 0, 0] \n",
      "[[[1], [0]], [[0], [3680]]] \n",
      "[[[0, 0, 0, 2191, 0, 0], [0, 0, 0, 427, 868, 0]], [[3399, 2527, 0, 0, 0, 0], [3992, 1135, 121, 0, 0, 0]]] \n",
      "\n",
      "4 [3680, 3010, 4122, 0, 0] [0, 0, 0, 0, 0] \n",
      "[[[1], [0]], [[0], [3680]]] \n",
      "[[[0, 0, 0, 0, 2191, 0, 0], [0, 0, 0, 0, 427, 868, 0]], [[2436, 2585, 0, 0, 0, 0, 0], [3951, 3581, 4544, 0, 0, 0, 0]]] \n",
      "\n",
      "output:\n",
      "4 [1, 163, 2868, 0, 0] [0, 0, 0, 0, 0] \n",
      "[[[0, 0, 0, 0, 1197, 0, 0], [0, 0, 0, 0, 952, 2161, 0]], [[2436, 2585, 0, 0, 0, 0, 0], [3951, 3581, 4544, 0, 0, 0, 0]]] \n",
      "\n"
     ]
    },
    {
     "data": {
      "text/plain": [
       "([1, 163, 2868, 0, 0],\n",
       " [[[0, 0, 0, 0, 1197, 0, 0], [0, 0, 0, 0, 952, 2161, 0]],\n",
       "  [[2436, 2585, 0, 0, 0, 0, 0], [3951, 3581, 4544, 0, 0, 0, 0]]])"
      ]
     },
     "execution_count": 227,
     "metadata": {},
     "output_type": "execute_result"
    }
   ],
   "source": [
    "extgcd_list( a2*b2 ,b2*c1 )"
   ]
  },
  {
   "cell_type": "code",
   "execution_count": 231,
   "metadata": {
    "collapsed": true
   },
   "outputs": [],
   "source": [
    "\n",
    "def poly_mul( a , b ):\n",
    "  r = [a[0].parent(0)]*(len(a)+len(b)-1)\n",
    "  for i in range(len(a)):\n",
    "    r[i:i+len(b)] = list_add( r[i:i+len(b)] , list_mul(b,a[i]) )\n",
    "    #for j in range(len(b)):\n",
    "    #  r[i+j] = r[i+j] + a[i]*b[j]\n",
    "  return r\n",
    "\n",
    "def mat_mul( mat1 , mat2 ) :\n",
    "  m1_len = len(mat1[0][0])\n",
    "  m2_len = len(mat2[0][0])\n",
    "  r_len = m1_len+m2_len\n",
    "  r00_u = poly_mul(mat1[0][0],mat2[0][0])\n",
    "  r00_d = poly_mul(mat1[0][1],mat2[1][0])\n",
    "  r00 = list_add(list_pad_front(r00_u,r_len),list_pad_zero(r00_d,r_len))\n",
    "  r01_u = poly_mul(mat1[0][0],mat2[0][1])\n",
    "  r01_d = poly_mul(mat1[0][1],mat2[1][1])\n",
    "  r01 = list_add(list_pad_front(r01_u,r_len),list_pad_zero(r01_d,r_len))\n",
    "  r10_u = poly_mul(mat1[1][0],mat2[0][0])\n",
    "  r10_d = poly_mul(mat1[1][1],mat2[1][0])\n",
    "  r10 = list_add(list_pad_front(r10_u,r_len),list_pad_zero(r10_d,r_len))\n",
    "  r11_u = poly_mul(mat1[1][0],mat2[0][1])\n",
    "  r11_d = poly_mul(mat1[1][1],mat2[1][1])\n",
    "  r11 = list_add(list_pad_front(r11_u,r_len),list_pad_zero(r11_d,r_len))\n",
    "  return [ [r00,r01] , [ r10 , r11 ] ]\n",
    "\n",
    "\n",
    "\n",
    "def extgcd_list( a , b ):\n",
    "  deg_a = a.degree()\n",
    "  deg_b = b.degree()\n",
    "  if deg_a < deg_b :\n",
    "    a , b = b , a\n",
    "    deg_a , deg_b = deg_b , deg_a\n",
    "  if deg_a < 0 : return a\n",
    "  if deg_a == deg_b : \n",
    "    b = b*a.leading_coefficient() - a*b.leading_coefficient()\n",
    "  deg_b = deg_a - 1\n",
    "  delta = deg_a - deg_b\n",
    "  r1 = poly_rev( a , deg_a )\n",
    "  r2 = poly_rev( b , deg_b )\n",
    "  lenlist = deg_a + 1\n",
    "  r2 = list_pad_zero( r2 , lenlist )\n",
    "  coef_k = r1[0].parent()\n",
    "  print delta , r1 , r2 , \"\\n\"\n",
    "  delta , r1 , r2 , T1 = divstep_list( delta , r1 , r2 )\n",
    "  T0 = T1    # T1*Identity = T1\n",
    "  print delta , r1 , r2 , '\\n' , T1 , '\\n'\n",
    "  for i in range(deg_a+deg_b-1) :\n",
    "    delta , r1 , r2 , T1 = divstep_list( delta , r1 , r2 )\n",
    "    T0 = mat_mul( T1 , T0 )\n",
    "    print delta , r1 , r2 , '\\n' , T1 , '\\n' , T0 , '\\n'\n",
    "  #normalize\n",
    "  inv = r1[0]^-1\n",
    "  r1 = map( lambda x: x*inv , r1 )\n",
    "  T0[0][0] = list_mul( T0[0][0] , inv )\n",
    "  T0[0][1] = list_mul( T0[0][1] , inv )\n",
    "  print \"output:\"\n",
    "  print delta , r1 , r2 , '\\n' , T0 , '\\n'\n",
    "  return r1 , T0"
   ]
  },
  {
   "cell_type": "code",
   "execution_count": 237,
   "metadata": {
    "collapsed": false
   },
   "outputs": [],
   "source": [
    "\n",
    "def mat_mul_vec( mat , vec ) :\n",
    "  m_l = len(mat[0][0])\n",
    "  f_m00 = poly_mul(mat[0][0],vec[0])\n",
    "  g_m01 = poly_mul(mat[0][1],vec[1])\n",
    "  f = list_add( f_m00 , g_m01 )\n",
    "  f_m10 = poly_mul(mat[1][0],vec[0])\n",
    "  g_m11 = poly_mul(mat[1][1],vec[1])\n",
    "  g = list_add( f_m10 , g_m11 )\n",
    "  ## XXX: assert 0 for truncated part.\n",
    "  rf = f[m_l-1:]\n",
    "  rg = list_pad_zero( g[m_l:] , len(vec[1]) )\n",
    "  return [ rf , rg ]\n",
    "\n",
    "def extgcd_list( a , b ):\n",
    "  deg_a = a.degree()\n",
    "  deg_b = b.degree()\n",
    "  if deg_a < deg_b :\n",
    "    a , b = b , a\n",
    "    deg_a , deg_b = deg_b , deg_a\n",
    "  if deg_a < 0 : return a\n",
    "  if deg_a == deg_b : \n",
    "    b = b*a.leading_coefficient() - a*b.leading_coefficient()\n",
    "  deg_b = deg_a - 1\n",
    "  delta = deg_a - deg_b\n",
    "  r1 = poly_rev( a , deg_a )\n",
    "  r2 = poly_rev( b , deg_b )\n",
    "  lenlist = deg_a + 1\n",
    "  r2 = list_pad_zero( r2 , lenlist )\n",
    "  _r1 = list(r1) ###\n",
    "  _r2 = list(r2) ###\n",
    "  coef_k = r1[0].parent()\n",
    "  print delta , r1 , r2 , \"\\n\"\n",
    "  delta , r1 , r2 , T1 = divstep_list( delta , r1 , r2 )\n",
    "  T0 = T1    # T1*Identity = T1\n",
    "  print delta , r1 , r2 , '\\n' , T1 , '\\n'\n",
    "  for i in range(deg_a+deg_b-1) :\n",
    "    delta , r1 , r2 , T1 = divstep_list( delta , r1 , r2 )\n",
    "    T0 = deg1mat_mul( T1 , T0 )\n",
    "    print delta , r1 , r2 , '\\n' , T1 , '\\n' , T0 , '\\n'\n",
    "    c = mat_mul_vec( T0 , [_r1 , _r2] ) ####\n",
    "    print \"chk: \" , c[0] , c[1] , \"\\n\"\n",
    "  #normalize\n",
    "  inv = r1[0]^-1\n",
    "  r1 = map( lambda x: x*inv , r1 )\n",
    "  T0[0][0] = list_mul( T0[0][0] , inv )\n",
    "  T0[0][1] = list_mul( T0[0][1] , inv )\n",
    "  print \"output:\"\n",
    "  print delta , r1 , r2 , '\\n' , T0 , '\\n'\n",
    "  return r1 , T0\n",
    "\n"
   ]
  },
  {
   "cell_type": "code",
   "execution_count": 241,
   "metadata": {
    "collapsed": false
   },
   "outputs": [
    {
     "name": "stdout",
     "output_type": "stream",
     "text": [
      "1 [3673, 1134, 3843, 701] [2898, 4092, 1754, 0] \n",
      "\n",
      "0 [2898, 4092, 1754, 0] [194, 2570, 2276, 0] \n",
      "[[[0], [1]], [[2898], [918]]] \n",
      "\n",
      "1 [2898, 4092, 1754, 0] [1653, 2630, 0, 0] \n",
      "[[[1], [0]], [[4397], [2898]]] \n",
      "[[[0, 0], [0, 1]], [[1465, 0], [2175, 4397]]] \n",
      "\n",
      "chk:  [2898, 4092, 1754, 0] [1653, 2630, 0, 0] \n",
      "\n",
      "0 [1653, 2630, 0, 0] [853, 2441, 0, 0] \n",
      "[[[0], [1]], [[1653], [1693]]] \n",
      "[[[1465, 0, 0], [2175, 4397, 0]], [[1105, 0, 0], [293, 2110, 1653]]] \n",
      "\n",
      "chk:  [1653, 2630, 0, 0] [853, 2441, 0, 0] \n",
      "\n",
      "1 [1653, 2630, 0, 0] [1093, 0, 0, 0] \n",
      "[[[1], [0]], [[3738], [1653]]] \n",
      "[[[0, 1465, 0, 0], [0, 2175, 4397, 0]], [[3938, 3698, 0, 0], [2274, 2750, 970, 0]]] \n",
      "\n",
      "chk:  [1653, 2630, 0, 0] [1093, 0, 0, 0] \n",
      "\n",
      "0 [1093, 0, 0, 0] [624, 0, 0, 0] \n",
      "[[[0], [1]], [[1093], [2938]]] \n",
      "[[[3938, 3698, 0, 0, 0], [2274, 2750, 970, 0, 0]], [[524, 2418, 3577, 0, 0], [1107, 3931, 2577, 3735, 0]]] \n",
      "\n",
      "chk:  [1093, 0, 0, 0] [624, 0, 0, 0] \n",
      "\n",
      "output:\n",
      "0 [1, 0, 0, 0] [624, 0, 0, 0] \n",
      "[[[4561, 2490, 0, 0, 0], [3669, 3262, 3588, 0, 0]], [[524, 2418, 3577, 0, 0], [1107, 3931, 2577, 3735, 0]]] \n",
      "\n"
     ]
    },
    {
     "data": {
      "text/plain": [
       "([1, 0, 0, 0],\n",
       " [[[4561, 2490, 0, 0, 0], [3669, 3262, 3588, 0, 0]],\n",
       "  [[524, 2418, 3577, 0, 0], [1107, 3931, 2577, 3735, 0]]])"
      ]
     },
     "execution_count": 241,
     "metadata": {},
     "output_type": "execute_result"
    }
   ],
   "source": [
    "extgcd_list( a2*b1 , b2 )"
   ]
  },
  {
   "cell_type": "code",
   "execution_count": 242,
   "metadata": {
    "collapsed": true
   },
   "outputs": [],
   "source": [
    "\n",
    "def jumpdivstep_mat(n,delta,f,g):\n",
    "  print \"jumpdivstep_mat(\",n,delta,f,g,\")\"\n",
    "  assert n>0\n",
    "  ### truncate \n",
    "  f,g = f[:n], g[:n]\n",
    "  print \"truncated(\",n,\"): f=\",f , \"  g=\", g\n",
    "  if n==1:\n",
    "    rd,f,g,T = divstep_list( delta , f , g )\n",
    "    return rd,T\n",
    "  # other cases of n\n",
    "  j = n//2\n",
    "  print \"j=\",j\n",
    "  delta,P1 = jumpdivstep_mat(j,delta,f,g)\n",
    "  print \"P1:\\n\" , P1 \n",
    "  f,g = mat_mul_vec( P1 , (f,g) )\n",
    "  print \"P1x(f,g): f=\" , f , \"  g=\", g\n",
    "  delta,P2 = jumpdivstep_mat(n-j,delta,f,g)\n",
    "  print \"P2:\\n\" , P2\n",
    "  #f,g = mat_mul_vec( P2 , (f,g) )\n",
    "  #print \"P2x(f,g): f=\" , f , \"  g=\", g\n",
    "  #f,g = kx(f).truncate(t-n+1),kx(g).truncate(t-n)\n",
    "  #print \"truncated: f=\",f , \"  g=\", g\n",
    "  rP = mat_mul( P2 , P1 )\n",
    "  print \"ret: \", delta , rP\n",
    "  return delta, rP\n"
   ]
  },
  {
   "cell_type": "code",
   "execution_count": 248,
   "metadata": {
    "collapsed": false
   },
   "outputs": [],
   "source": [
    "f = poly_rev(a2,2)\n",
    "g = poly_rev(b2,2)"
   ]
  },
  {
   "cell_type": "code",
   "execution_count": 257,
   "metadata": {
    "collapsed": false,
    "scrolled": true
   },
   "outputs": [],
   "source": [
    "\n",
    "def jumpdivsteps_list(n,delta,f,g):\n",
    "  print \"jumpdivsteps_list(\",n,delta,f,g,\")\"\n",
    "  assert n>0\n",
    "  if n==1:\n",
    "    return divstep_list( delta , f , g )\n",
    "  # other cases of n\n",
    "  j = n//2\n",
    "  print \"j=\",j\n",
    "  delta,P1 = jumpdivstep_mat(j,delta,f,g)\n",
    "  print \"P1:\\n\" , P1 \n",
    "  f,g = mat_mul_vec( P1 , (f,g) )\n",
    "  print \"P1x(f,g): f=\" , f , \"  g=\", g\n",
    "  delta,P2 = jumpdivstep_mat(n-j,delta,f,g)\n",
    "  print \"P2:\\n\" , P2\n",
    "  f,g = mat_mul_vec( P2 , (f,g) )\n",
    "  print \"P2x(f,g): f=\" , f , \"  g=\", g\n",
    "  #f,g = kx(f).truncate(t-n+1),kx(g).truncate(t-n)\n",
    "  print \"truncated ???: f=\",f , \"  g=\", g\n",
    "  rP = mat_mul( P2 , P1 )\n",
    "  return delta, f , g , rP"
   ]
  },
  {
   "cell_type": "code",
   "execution_count": 266,
   "metadata": {
    "collapsed": false
   },
   "outputs": [
    {
     "data": {
      "text/plain": [
       "([3504, 1659, 2347, 1601, 2989], [3696, 833, 24, 3710, 0])"
      ]
     },
     "execution_count": 266,
     "metadata": {},
     "output_type": "execute_result"
    }
   ],
   "source": [
    "f = poly_rev(a2*b2,4)\n",
    "g = poly_rev(b2*c1,3)\n",
    "g = list_pad_zero(g,len(f))\n",
    "f,g"
   ]
  },
  {
   "cell_type": "code",
   "execution_count": 269,
   "metadata": {
    "collapsed": false
   },
   "outputs": [],
   "source": [
    "\n",
    "def jumpgcd_list(R0,R1):\n",
    "  d = R0.degree()\n",
    "  assert d>0 and d>R1.degree()\n",
    "  f = poly_rev(R0,d)\n",
    "  g = poly_rev(R1,R1.degree())\n",
    "  g = list_pad_zero(g,len(f))\n",
    "  delta,f,g,T = jumpdivsteps_list(2*d-1,1,f,g)\n",
    "  return delta,f,g,T\n"
   ]
  },
  {
   "cell_type": "code",
   "execution_count": 270,
   "metadata": {
    "collapsed": false
   },
   "outputs": [
    {
     "name": "stdout",
     "output_type": "stream",
     "text": [
      "jumpdivsteps_list( 7 1 [3504, 1659, 2347, 1601, 2989] [3696, 833, 24, 3710, 0] )\n",
      "j= 3\n",
      "jumpdivstep_mat( 3 1 [3504, 1659, 2347, 1601, 2989] [3696, 833, 24, 3710, 0] )\n",
      "truncated( 3 ): f= [3504, 1659, 2347]   g= [3696, 833, 24]\n",
      "j= 1\n",
      "jumpdivstep_mat( 1 1 [3504, 1659, 2347] [3696, 833, 24] )\n",
      "truncated( 1 ): f= [3504]   g= [3696]\n",
      "P1:\n",
      "[[[0], [1]], [[3696], [1087]]]\n",
      "P1x(f,g): f= [3696, 833, 24]   g= [3723, 655, 0]\n",
      "jumpdivstep_mat( 2 0 [3696, 833, 24] [3723, 655, 0] )\n",
      "truncated( 2 ): f= [3696, 833]   g= [3723, 655]\n",
      "j= 1\n",
      "jumpdivstep_mat( 1 0 [3696, 833] [3723, 655] )\n",
      "truncated( 1 ): f= [3696]   g= [3723]\n",
      "P1:\n",
      "[[[1], [0]], [[868], [3696]]]\n",
      "P1x(f,g): f= [3696, 833]   g= [3680, 0]\n",
      "jumpdivstep_mat( 1 1 [3696, 833] [3680, 0] )\n",
      "truncated( 1 ): f= [3696]   g= [3680]\n",
      "P2:\n",
      "[[[0], [1]], [[3680], [895]]]\n",
      "ret:  0 [[[868, 0], [3696, 0]], [[981, 3680], [2400, 0]]]\n",
      "P2:\n",
      "[[[868, 0], [3696, 0]], [[981, 3680], [2400, 0]]]\n",
      "ret:  0 [[[2191, 0, 0], [427, 868, 0]], [[588, 0, 0], [1112, 981, 3680]]]\n",
      "P1:\n",
      "[[[2191, 0, 0], [427, 868, 0]], [[588, 0, 0], [1112, 981, 3680]]]\n",
      "P1x(f,g): f= [3680, 3010, 4122, 0, 0]   g= [2276, 3708, 3757, 0, 0]\n",
      "jumpdivstep_mat( 4 0 [3680, 3010, 4122, 0, 0] [2276, 3708, 3757, 0, 0] )\n",
      "truncated( 4 ): f= [3680, 3010, 4122, 0]   g= [2276, 3708, 3757, 0]\n",
      "j= 2\n",
      "jumpdivstep_mat( 2 0 [3680, 3010, 4122, 0] [2276, 3708, 3757, 0] )\n",
      "truncated( 2 ): f= [3680, 3010]   g= [2276, 3708]\n",
      "j= 1\n",
      "jumpdivstep_mat( 1 0 [3680, 3010] [2276, 3708] )\n",
      "truncated( 1 ): f= [3680]   g= [2276]\n",
      "P1:\n",
      "[[[1], [0]], [[2315], [3680]]]\n",
      "P1x(f,g): f= [3680, 3010]   g= [0, 0]\n",
      "jumpdivstep_mat( 1 1 [3680, 3010] [0, 0] )\n",
      "truncated( 1 ): f= [3680]   g= [0]\n",
      "P2:\n",
      "[[[1], [0]], [[0], [3680]]]\n",
      "ret:  2 [[[0, 1], [0, 0]], [[2895, 0], [3541, 0]]]\n",
      "P1:\n",
      "[[[0, 1], [0, 0]], [[2895, 0], [3541, 0]]]\n",
      "P1x(f,g): f= [3680, 3010, 4122, 0]   g= [0, 0, 0, 0]\n",
      "jumpdivstep_mat( 2 2 [3680, 3010, 4122, 0] [0, 0, 0, 0] )\n",
      "truncated( 2 ): f= [3680, 3010]   g= [0, 0]\n",
      "j= 1\n",
      "jumpdivstep_mat( 1 2 [3680, 3010] [0, 0] )\n",
      "truncated( 1 ): f= [3680]   g= [0]\n",
      "P1:\n",
      "[[[1], [0]], [[0], [3680]]]\n",
      "P1x(f,g): f= [3680, 3010]   g= [0, 0]\n",
      "jumpdivstep_mat( 1 3 [3680, 3010] [0, 0] )\n",
      "truncated( 1 ): f= [3680]   g= [0]\n",
      "P2:\n",
      "[[[1], [0]], [[0], [3680]]]\n",
      "ret:  4 [[[0, 1], [0, 0]], [[0, 0], [3541, 0]]]\n",
      "P2:\n",
      "[[[0, 1], [0, 0]], [[0, 0], [3541, 0]]]\n",
      "ret:  4 [[[0, 0, 0, 1], [0, 0, 0, 0]], [[4083, 0, 0, 0], [660, 0, 0, 0]]]\n",
      "P2:\n",
      "[[[0, 0, 0, 1], [0, 0, 0, 0]], [[4083, 0, 0, 0], [660, 0, 0, 0]]]\n",
      "P2x(f,g): f= [3680, 3010, 4122, 0, 0]   g= [0, 0, 0, 0, 0]\n",
      "truncated ???: f= [3680, 3010, 4122, 0, 0]   g= [0, 0, 0, 0, 0]\n"
     ]
    },
    {
     "data": {
      "text/plain": [
       "(4,\n",
       " [3680, 3010, 4122, 0, 0],\n",
       " [0, 0, 0, 0, 0],\n",
       " [[[0, 0, 0, 0, 2191, 0, 0], [0, 0, 0, 0, 427, 868, 0]],\n",
       "  [[2436, 2585, 0, 0, 0, 0, 0], [3951, 3581, 4544, 0, 0, 0, 0]]])"
      ]
     },
     "execution_count": 270,
     "metadata": {},
     "output_type": "execute_result"
    }
   ],
   "source": [
    "jumpgcd_list( a2*b2 , b2*c1 )"
   ]
  }
 ],
 "metadata": {
  "kernelspec": {
   "display_name": "SageMath 7.5.1",
   "language": "",
   "name": "sagemath"
  },
  "language_info": {
   "codemirror_mode": {
    "name": "ipython",
    "version": 2
   },
   "file_extension": ".py",
   "mimetype": "text/x-python",
   "name": "python",
   "nbconvert_exporter": "python",
   "pygments_lexer": "ipython2",
   "version": "2.7.13"
  }
 },
 "nbformat": 4,
 "nbformat_minor": 0
}
